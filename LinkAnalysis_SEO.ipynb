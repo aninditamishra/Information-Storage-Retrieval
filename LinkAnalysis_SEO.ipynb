{
 "cells": [
  {
   "cell_type": "markdown",
   "metadata": {},
   "source": [
    "#### CSCE 670 :: Information Storage and Retrieval :: Texas A&M University :: Spring 2019\n",
    "\n",
    "\n",
    "# Homework 1:  Modeling Text + Link Analysis + SEO\n",
    "\n",
    "### 100 points [6% of your final grade]\n",
    "\n",
    "### Due: Monday, February 8, 2019 by 11:59pm\n",
    "\n",
    "*Goals of this homework:* Understand the vector space model (TF-IDF, cosine) + BM25 works in searching. Explore real-world challenges of building a graph (in this case, from Epinions), implement and test the classic HITS algorithm over this graph. Experiment with real-world search engine optimization techniques.\n",
    "\n",
    "*Submission instructions (eCampus):* To submit your homework, rename this notebook as `UIN_hw1.ipynb`. For example, my homework submission would be something like `555001234_hw1.ipynb`. Submit this notebook via eCampus (look for the homework 1 assignment there). Your notebook should be completely self-contained, with the results visible in the notebook. We should not have to run any code from the command line, nor should we have to run your code within the notebook (though we reserve the right to do so). So please run all the cells for us, and then submit.\n",
    "\n",
    "*Late submission policy:* For this homework, you may use as many late days as you like (up to the 5 total allotted to you).\n",
    "\n",
    "*Collaboration policy:* You are expected to complete each homework independently. Your solution should be written by you without the direct aid or help of anyone else. However, we believe that collaboration and team work are important for facilitating learning, so we encourage you to discuss problems and general problem approaches (but not actual solutions) with your classmates. You may post on Piazza, search StackOverflow, etc. But if you do get help in this way, you must inform us by **filling out the Collaboration Declarations at the bottom of this notebook**. \n",
    "\n",
    "*Example: I found helpful code on stackoverflow at https://stackoverflow.com/questions/11764539/writing-fizzbuzz that helped me solve Problem 2.*\n",
    "\n",
    "The basic rule is that no student should explicitly share a solution with another student (and thereby circumvent the basic learning process), but it is okay to share general approaches, directions, and so on. If you feel like you have an issue that needs clarification, feel free to contact either me or the TA."
   ]
  },
  {
   "cell_type": "markdown",
   "metadata": {},
   "source": [
    "# Part 1: Modeling Text (50 points)"
   ]
  },
  {
   "cell_type": "markdown",
   "metadata": {},
   "source": [
    "### TF-IDF\n",
    "\n",
    "\n",
    "First, you will need to download the review.json file from the Resources tab on Piazza, a collection of about 7,000 Yelp reviews we sampled from the [Yelp Dataset Challenge](https://www.yelp.com/dataset_challenge). You'll see that each line corresponds to a review on a particular business. Each review has a unique \"ID\" and the text content is in the \"review\" field. You need to load the json file first. We already have done some basic preprocessing on the reviews, so you can just tokenize each review using whitespace."
   ]
  },
  {
   "cell_type": "markdown",
   "metadata": {},
   "source": [
    "Here you can treat each review as a document. Given a query, you need to calculate its TF-IDF score in each review.  For this homework, we will define the TF-IDF as follows:"
   ]
  },
  {
   "cell_type": "markdown",
   "metadata": {},
   "source": [
    "`TF = number of times word occurs in a document`\n",
    "\n",
    "`IDF = log(total number of documents / number of documents containing the word)`"
   ]
  },
  {
   "cell_type": "markdown",
   "metadata": {},
   "source": [
    "### A) Ranking with simple sums of TF-IDF scores\n",
    "\n",
    "To start out with, for a multi-word query, we will rank documents by a simple sum of the TF-IDF scores for the query terms in the document. \n",
    "\n",
    "Please calculate this TF-IDF sum score for queries `\"best bbq\"` and `\"kid fun and food\"`. You need to report the Top-10 reviews with highest TF-IDF scores for each query. Your output should look like this:"
   ]
  },
  {
   "cell_type": "markdown",
   "metadata": {},
   "source": [
    "Query \"best bbq\"\n",
    "\n",
    "Rank Review_ID score\n",
    "\n",
    "1 dhskfhjskfhs 0.55555\n",
    "\n",
    "...\n",
    "\n",
    "\n",
    "\n",
    "Query \"kid fun and food\"\n",
    "\n",
    "Rank Review_ID score\n",
    "\n",
    "1 dhskfhjskfhs 0.55555\n",
    "\n",
    "..."
   ]
  },
  {
   "cell_type": "code",
   "execution_count": 2,
   "metadata": {
    "scrolled": true
   },
   "outputs": [],
   "source": [
    "import json\n",
    "from math import exp, expm1\n",
    "import operator\n",
    "\n",
    "reviews = []\n",
    "for line in open('review.json', 'r'):\n",
    "    reviews.append(json.loads(line))\n",
    "\n",
    "def countTokens(review):\n",
    "    x = []\n",
    "    wordcount = {}\n",
    "    x = review.split()\n",
    "    for word in x:\n",
    "        if word not in wordcount:\n",
    "            wordcount[word] = 1\n",
    "        else:\n",
    "            wordcount[word] += 1\n",
    "    return wordcount\n",
    "\n",
    "#Term Frequency per Review\n",
    "new = []\n",
    "words = []\n",
    "for r in reviews:\n",
    "    temp = {'docID': r['id'], 'wordCount': countTokens(r['review'])}\n",
    "    words.extend(r['review'].split())\n",
    "    new.append(temp)\n",
    "\n",
    "dictionary = set(words)\n",
    "\n",
    "#Function to calculate IDF Scores\n",
    "def IDFScore(query):\n",
    "    x = []\n",
    "    docCount = {}\n",
    "    idf = {}\n",
    "    x = query.split()\n",
    "    for word in x:\n",
    "        for n in new:\n",
    "            if word in n['wordCount'] and word not in docCount:\n",
    "                docCount[word]=1\n",
    "            elif word in n['wordCount'] and word in docCount:\n",
    "                docCount[word]+=1\n",
    "        idf[word] = math.log10(len(new)/docCount[word])     \n",
    "    return idf\n",
    "\n",
    "#Function to calculate TF Scores\n",
    "def TFScore(query):\n",
    "    x = []\n",
    "    tf = []\n",
    "    x = query.split()\n",
    "    for n in new:\n",
    "        temp = {}\n",
    "        temp['docID'] = n['docID']\n",
    "        for word in x:           \n",
    "            count = 0\n",
    "            if word in n['wordCount']:\n",
    "                count = n['wordCount'][word]\n",
    "            temp[word] = count\n",
    "        tf.append(temp)\n",
    "    return tf\n",
    "\n",
    "#Function to calculate TFxIDF Scores\n",
    "def TF_IDF(query):\n",
    "    tf = TFScore(query)\n",
    "    idf = IDFScore(query)\n",
    "    x = []\n",
    "    x = query.split()\n",
    "    tf_idf = {}\n",
    "    i=0\n",
    "    for i in range(0,len(new)):  \n",
    "        score = 0 \n",
    "        for word in x:\n",
    "            score+=idf[word] * tf[i][word]\n",
    "        tf_idf[tf[i]['docID']] = score\n",
    "    return tf_idf \n"
   ]
  },
  {
   "cell_type": "code",
   "execution_count": 3,
   "metadata": {},
   "outputs": [
    {
     "name": "stdout",
     "output_type": "stream",
     "text": [
      "Rank\t Review ID\t \t\t\tScore\n",
      "1 \t YbQvHNrjZJ38mnh5rLuq7w \t 11.430532931561633\n",
      "2 \t P31kXP4oan6ZQm69TN6tIA \t 9.525444109634693\n",
      "3 \t x5esEK6J9XkA_vbvVbG8Gg \t 8.471542878759161\n",
      "4 \t mWs26TrBM7ogwCM9UfVJFg \t 7.6203552877077545\n",
      "5 \t NCfX4AxDvQ3QRyXKtmhVwQ \t 7.6203552877077545\n",
      "6 \t e5INq6DAZn2zMHicKQl07Q \t 6.566454056832223\n",
      "7 \t 4WTG1-9mw8YHEyaTu8dQww \t 6.566454056832223\n",
      "8 \t x3n_l3GhBx78y6jWX4fStg \t 5.958313137359845\n",
      "9 \t Wp8jYXL1DQrgrnZIFmufFg \t 5.715266465780816\n",
      "10 \t jrEx93eYKIjCW2nrkwjZpQ \t 5.715266465780816\n"
     ]
    }
   ],
   "source": [
    "# Show us the result for \"best bbq\"\n",
    "import math\n",
    "from tabulate import tabulate\n",
    "\n",
    "score = TF_IDF('best bbq')    \n",
    "sorted_x = sorted(score.items(), key=operator.itemgetter(1), reverse = True)\n",
    "data = (sorted_x)[:10]\n",
    "\n",
    "i=1\n",
    "print(\"Rank\\t\", \"Review ID\\t\", \"\\t\\t\\tScore\")\n",
    "for key,value in data:\n",
    "    print(i,\"\\t\",key,\"\\t\", value)\n",
    "    i+=1\n",
    "    "
   ]
  },
  {
   "cell_type": "code",
   "execution_count": 4,
   "metadata": {},
   "outputs": [
    {
     "name": "stdout",
     "output_type": "stream",
     "text": [
      "Rank\t Review ID\t \t\t\tScore\n",
      "1 \t 7o_hciiXEMNQkXfVl0F0XQ \t 9.641872501183393\n",
      "2 \t JKLUXUovJCU6kbcdin74NQ \t 8.692007941255747\n",
      "3 \t IA8TOfGKI-Il-70BsB6HgA \t 8.132369151667877\n",
      "4 \t Kytq1NbFIDDCXUculSqT8g \t 7.2912649956941475\n",
      "5 \t MF6rPRx9jz-g8S5P_ZIdyg \t 7.080045177182006\n",
      "6 \t bjoedmJ4_DZP5JnfXVaC-w \t 6.825484846867428\n",
      "7 \t I00B-QG5uTKvwCK7x9ejeA \t 6.8021590858855445\n",
      "8 \t BVGRJgDJGEhSfgIPCan7vQ \t 6.721602275668411\n",
      "9 \t wMB3cI3-xhxM_BpmppY9RQ \t 6.425196423168579\n",
      "10 \t vTGDEQGp6EPlwdMJUnTb7A \t 6.0414680741761755\n"
     ]
    }
   ],
   "source": [
    "# Show us the result for \"kid fun and food\"\n",
    "score = TF_IDF('kid fun and food')    \n",
    "sorted_x = sorted(score.items(), key=operator.itemgetter(1), reverse = True)\n",
    "\n",
    "data = (sorted_x)[:10]\n",
    "i=1\n",
    "print(\"Rank\\t\", \"Review ID\\t\", \"\\t\\t\\tScore\")\n",
    "for key,value in data:\n",
    "    print(i,\"\\t\",key,\"\\t\", value)\n",
    "    i+=1"
   ]
  },
  {
   "cell_type": "markdown",
   "metadata": {},
   "source": [
    "### B) Ranking with TF-IDF + Cosine\n",
    "\n",
    "Instead of using the sum of TF-IDF scores, let's try the classic cosine approach for ranking. You should still use the TF-IDF scores to weigh each term, but now use the cosine between the query vector and the document vector to assign a similarity score. You can try the same two queries as before and report the results. (Top-10 reviews which are similar to the query)"
   ]
  },
  {
   "cell_type": "code",
   "execution_count": 5,
   "metadata": {
    "scrolled": true
   },
   "outputs": [],
   "source": [
    "import math \n",
    "\n",
    "#stores the idf scores for all words in dictionary \n",
    "idf_score = {}\n",
    "\n",
    "for word in dictionary:\n",
    "    idf_temp = IDFScore(word) \n",
    "    idf_score[word] = idf_temp[word] \n",
    "\n",
    "def query_magnitude(query):\n",
    "    x=[]\n",
    "    x=query.split()\n",
    "    y ={}\n",
    "    y = countTokens(query)\n",
    "    mag_qi=0\n",
    "    for a in x:\n",
    "        mag_qi += pow(y[a]*idf_score[a],2)\n",
    "    magnitude = math.sqrt(mag_qi)\n",
    "    return magnitude\n",
    "\n",
    "def document_magnitude():\n",
    "    doc_mag ={}\n",
    "    index=0\n",
    "    for n in new:\n",
    "        magnitude =0\n",
    "        mag_di =0\n",
    "        for word in n['wordCount']:  \n",
    "            count = n['wordCount'][word] * idf_score[word]\n",
    "            mag_di += pow(count,2)\n",
    "        magnitude = math.sqrt(mag_di)\n",
    "        doc_mag[n['docID']] = magnitude\n",
    "        index+=1\n",
    "    return doc_mag\n",
    "\n",
    "doc_magnitude = document_magnitude()\n",
    "#print('Doc magnitude', doc_magnitude)\n",
    "\n",
    "#using tf-idf scores of the query and not just tf score for the query\n",
    "def cosine_tfidf(query):\n",
    "    x = {}\n",
    "    x = countTokens(query)\n",
    "    tf = TFScore(query)\n",
    "    scores = {}\n",
    "    for i in range(0,len(tf)):\n",
    "        qi_di=0\n",
    "        for word in x:\n",
    "            qi = x[word] * idf_score[word]\n",
    "            di = tf[i][word] * idf_score[word] \n",
    "            qi_di+= qi*di\n",
    "            scores[tf[i]['docID']] = qi_di /(query_magnitude(query) * doc_magnitude[tf[i]['docID']])\n",
    "    return scores"
   ]
  },
  {
   "cell_type": "code",
   "execution_count": 6,
   "metadata": {
    "scrolled": true
   },
   "outputs": [
    {
     "name": "stdout",
     "output_type": "stream",
     "text": [
      "Rank\t Review ID\t \t\t\tScore\n",
      "1 \t x5esEK6J9XkA_vbvVbG8Gg \t 0.5317240946819429\n",
      "2 \t P31kXP4oan6ZQm69TN6tIA \t 0.46188402591085276\n",
      "3 \t 8p-KEtrrTmLv-o1mKpUy1A \t 0.43897268486712104\n",
      "4 \t _fNfowXaxXcYChKukMrYeg \t 0.3979856739671412\n",
      "5 \t NCfX4AxDvQ3QRyXKtmhVwQ \t 0.3665421991949398\n",
      "6 \t 4iCl2qJaz9GPaU4v5bRW2A \t 0.36308346241131384\n",
      "7 \t HzNxErSCQ2FYfPCbyfHrSQ \t 0.36237683074178917\n",
      "8 \t e5INq6DAZn2zMHicKQl07Q \t 0.33485418089677293\n",
      "9 \t Wp8jYXL1DQrgrnZIFmufFg \t 0.3118555623309593\n",
      "10 \t 1tJ_iJX_KZ3zM_9_GRaGTg \t 0.31082470147489855\n"
     ]
    }
   ],
   "source": [
    "# Show us the result for \"best bbq\"\n",
    "#uses tf-idf scores of the query in the function\n",
    "score = cosine_tfidf('best bbq')    \n",
    "sorted_x = sorted(score.items(), key=operator.itemgetter(1), reverse = True)\n",
    "\n",
    "data = (sorted_x)[:10]\n",
    "i=1\n",
    "print(\"Rank\\t\", \"Review ID\\t\", \"\\t\\t\\tScore\")\n",
    "for key,value in data:\n",
    "    print(i,\"\\t\",key,\"\\t\", value)\n",
    "    i+=1"
   ]
  },
  {
   "cell_type": "code",
   "execution_count": 7,
   "metadata": {},
   "outputs": [
    {
     "name": "stdout",
     "output_type": "stream",
     "text": [
      "Rank\t Review ID\t \t\t\tScore\n",
      "1 \t IUME6cWFSwH1mSh_1_U81g \t 0.4104441171922874\n",
      "2 \t 6xdziQ46TZWKBpKQPNCSGw \t 0.2897208925770315\n",
      "3 \t OExraycGW4VxL0Xth1xZ4w \t 0.2511025783811886\n",
      "4 \t RRGemWMJskG2VQiDzjAOhw \t 0.23813741108195638\n",
      "5 \t 37RfMeDMo8QEVAF8yT31Ww \t 0.21661731670833084\n",
      "6 \t JKLUXUovJCU6kbcdin74NQ \t 0.21259362982108448\n",
      "7 \t rM_V3OfrwWA7vHsXsUmq2w \t 0.21146292901726388\n",
      "8 \t k7HxGMgabFxDUi2XWZ_hOg \t 0.20781006062485471\n",
      "9 \t 5oLxygfaHo2dMf9dbRxc4w \t 0.19992966478169988\n",
      "10 \t XTSD0-Wi1r_k2EQOCpv8hA \t 0.19296521321517499\n"
     ]
    }
   ],
   "source": [
    "# Show us the result for \"kid fun and food\"\n",
    "#uses tf-idf scores of the query in the function\n",
    "score = cosine_tfidf('kid fun and food')    \n",
    "sorted_x = sorted(score.items(), key=operator.itemgetter(1), reverse = True)\n",
    "\n",
    "data = (sorted_x)[:10]\n",
    "i=1\n",
    "print(\"Rank\\t\", \"Review ID\\t\", \"\\t\\t\\tScore\")\n",
    "for key,value in data:\n",
    "    print(i,\"\\t\",key,\"\\t\", value)\n",
    "    i+=1"
   ]
  },
  {
   "cell_type": "markdown",
   "metadata": {},
   "source": [
    "### C) Ranking with BM25\n",
    "\n",
    "Finally, let's try the BM25 approach for ranking. Refer to [https://en.wikipedia.org/wiki/Okapi_BM25](https://en.wikipedia.org/wiki/Okapi_BM25) for the specific formula. You should choose k_1 = 1.2 and b = 0.75. You need to report the Top-10 reviews with highest BM25 scores for each query.\n"
   ]
  },
  {
   "cell_type": "code",
   "execution_count": 8,
   "metadata": {},
   "outputs": [],
   "source": [
    "#Your code here\n",
    "k_1 = 1.2\n",
    "b = 0.75\n",
    "\n",
    "def bm25_helper():\n",
    "    doc_tf = {}\n",
    "    for n in new:\n",
    "        count =0\n",
    "        for key,value in n['wordCount'].items():\n",
    "            count+=value\n",
    "        doc_tf[n['docID']] = count\n",
    "    return doc_tf\n",
    "\n",
    "def DocLength():\n",
    "    count = 0\n",
    "    for n in new:\n",
    "        for key,value in n['wordCount'].items():\n",
    "            count+=value\n",
    "    return count\n",
    "\n",
    "avg_docLength = DocLength()/len(new)\n",
    "doc_tf = bm25_helper()\n",
    "\n",
    "def bm25(query):\n",
    "    x = {}\n",
    "    x = countTokens(query)\n",
    "    tf = TFScore(query)\n",
    "    scores = {}\n",
    "    for i in range(0,len(tf)):\n",
    "        num=0\n",
    "        temp =0\n",
    "        for word in x:\n",
    "            if word in dictionary:\n",
    "                num = tf[i][word] * idf_score[word] *(k_1+1)\n",
    "                den = tf[i][word] + (k_1 * ((1-b) + (b* doc_tf[tf[i]['docID']]/avg_docLength)))\n",
    "                temp += num/den\n",
    "        scores[tf[i]['docID']] = temp\n",
    "    return scores\n",
    "                             "
   ]
  },
  {
   "cell_type": "code",
   "execution_count": 9,
   "metadata": {},
   "outputs": [
    {
     "name": "stdout",
     "output_type": "stream",
     "text": [
      "Rank\t Review ID\t \t\t\tScore\n",
      "1 \t x5esEK6J9XkA_vbvVbG8Gg \t 4.222154734433089\n",
      "2 \t xpm6TgDiHaQdEDlErFsqvQ \t 4.088933945230742\n",
      "3 \t 4WTG1-9mw8YHEyaTu8dQww \t 3.891027458585551\n",
      "4 \t e5INq6DAZn2zMHicKQl07Q \t 3.731673460329797\n",
      "5 \t GASAd_gPBY_eWIL9XJwuNA \t 3.464216011656184\n",
      "6 \t P31kXP4oan6ZQm69TN6tIA \t 3.4222718800768748\n",
      "7 \t 8p-KEtrrTmLv-o1mKpUy1A \t 3.3091199999631034\n",
      "8 \t HzNxErSCQ2FYfPCbyfHrSQ \t 3.229482350635871\n",
      "9 \t -RApX_RMzJLnpommDpQfKQ \t 3.204095838695621\n",
      "10 \t 1tJ_iJX_KZ3zM_9_GRaGTg \t 3.1239630631638624\n"
     ]
    }
   ],
   "source": [
    "# Show us the result for \"best bbq\"\n",
    "score = bm25('best bbq')    \n",
    "sorted_x = sorted(score.items(), key=operator.itemgetter(1), reverse = True)\n",
    "\n",
    "data = (sorted_x)[:10]\n",
    "i=1\n",
    "print(\"Rank\\t\", \"Review ID\\t\", \"\\t\\t\\tScore\")\n",
    "for key,value in data:\n",
    "    print(i,\"\\t\",key,\"\\t\", value)\n",
    "    i+=1"
   ]
  },
  {
   "cell_type": "code",
   "execution_count": 10,
   "metadata": {},
   "outputs": [
    {
     "name": "stdout",
     "output_type": "stream",
     "text": [
      "Rank\t Review ID\t \t\t\tScore\n",
      "1 \t kDwMMrSiB_AlV0erhVigFg \t 3.440335841068963\n",
      "2 \t 6xdziQ46TZWKBpKQPNCSGw \t 3.054596625538573\n",
      "3 \t UMqvuRtTxJFuWbgT6qO9cg \t 3.0236961472468282\n",
      "4 \t TVq6HhhJizKM1mReF9hvJQ \t 3.0133396564389154\n",
      "5 \t OExraycGW4VxL0Xth1xZ4w \t 3.012355781988829\n",
      "6 \t nuKIKXuQ51eRywuCcoX3fQ \t 2.9815155466598267\n",
      "7 \t k7HxGMgabFxDUi2XWZ_hOg \t 2.9796259517085786\n",
      "8 \t JKLUXUovJCU6kbcdin74NQ \t 2.96139640420127\n",
      "9 \t EDQzFQ7yYbRVUWCNA4rTOQ \t 2.9553169750109785\n",
      "10 \t BLQYsPFFAezpbbF-1dzD4Q \t 2.945529446180057\n"
     ]
    }
   ],
   "source": [
    "# Show us the result for \"kid fun and food\"\n",
    "score = bm25('kid fun and food')    \n",
    "sorted_x = sorted(score.items(), key=operator.itemgetter(1), reverse = True)\n",
    "\n",
    "data = (sorted_x)[:10]\n",
    "i=1\n",
    "print(\"Rank\\t\", \"Review ID\\t\", \"\\t\\t\\tScore\")\n",
    "for key,value in data:\n",
    "    print(i,\"\\t\",key,\"\\t\", value)\n",
    "    i+=1\n"
   ]
  },
  {
   "cell_type": "markdown",
   "metadata": {},
   "source": [
    "Briefly discuss the differences you see between the three methods. Is there one you prefer? "
   ]
  },
  {
   "cell_type": "markdown",
   "metadata": {},
   "source": [
    "TF-IDF is the simplest ranking funtion that measures the relative concentration of a term in a given piece of text i.e. if a token is common in a particular article but relatively rare elsewhere then the TF-IDF score of the article will be high. Additionally, the text length affects the relevance of a document. A token that occurs twice in a 20 word document and 5 times in a 500 word document, then the shorter document will be more relevant than the longer document.\n",
    "\n",
    "Cosine document similarity is invariant to the actual number of times each term is used in a document; only the relative frequencies matter.  This way a long document with many words can be similar to a short document with fewer words but similar frequencies. So, this is an improvement to just using TF-IDF scores to check relevance of documents.\n",
    "\n",
    "Okapi BM25 uses a probabilistic model that is sensitive to term frequency and document length. We use tuning parameters like k_1 and b to caliberate the document term frequency scaling and document length scaling respectively. \n",
    "\n",
    "   * k_1: Larger Term Frequency means more relevance. However, you always asymptotically approach k_1. Modifying k_1 causes the asymptote to move. By stretching out the point of saturation (high k_1 value), we can stretch out the relevance difference between higher and lower term frequency documents.\n",
    "    \n",
    "   * b: The constant b will allow us to finely tune how much influence our L (document length relative to the average document length) value has on scoring.\n",
    "    \n",
    "I prefer BM25 over the other methods as it ranks a set of documents based on the query terms appearing in each document, regardless of the inter-relationship between the query terms within a document."
   ]
  },
  {
   "cell_type": "markdown",
   "metadata": {},
   "source": [
    "# Part 2: Link Analysis (40 points)"
   ]
  },
  {
   "cell_type": "markdown",
   "metadata": {},
   "source": [
    "## A Trust Graph\n",
    "\n",
    "\n",
    "In this part, we're going to adapt the classic HITS approach to allow us to find not the most authoritative web pages, but rather to find the most trustworthy users. [Epinions.com](https://snap.stanford.edu/data/soc-Epinions1.html) is a general consumer review site with a who-trust-whom online social network. Members of the site can decide whether to ''trust'' each other. All the trust relationships interact and form the Web of Trust which is then combined with review ratings to determine which reviews are shown to the user. (Refer to: Richardson, Matthew, Rakesh Agrawal, and Pedro Domingos. \"Trust management for the semantic web.\" International semantic Web conference. Springer, Berlin, Heidelberg, 2003.)\n",
    "\n",
    "So, instead of viewing the world as web pages with hyperlinks (where pages = nodes, hyperlinks = edges), we're going to construct a graph of Epinions users and their \"trust\" on other users (so user = node, trust behavior = edge). Over this Epinions-user graph, we can apply the HITS approach to order the users by their hub-ness and their authority-ness.\n",
    "\n",
    "You need to download the *Epinions_trust.txt* file from the Resources tab on Piazza. Each line represents the trust relationship between two users. Here is a toy example. Suppose you are given the following four lines:\n",
    "\n",
    "* diane trust bob\n",
    "* charlie trust bob \n",
    "* charlie trust alice\n",
    "* bob trust charlie\n",
    "\n",
    "The \"trust\" between each user pair denotes a directed edge between two nodes. E.g., the \"diane\" node has a directed edge to the \"bob\" node (as indicated by the first line). \n",
    "\n",
    "You should build a graph by parsing the data in the file we provide called *Epinions_trust.txt*. (Note: The edges are binary and directed.)\n",
    "\n",
    "**Notes:**\n",
    "\n",
    "* The edges are binary and directed.\n",
    "* User can't trust himself/herself.\n",
    "* Later you will need to implement the HITS algorithm on the graph you build here."
   ]
  },
  {
   "cell_type": "code",
   "execution_count": 11,
   "metadata": {
    "scrolled": false
   },
   "outputs": [
    {
     "name": "stdout",
     "output_type": "stream",
     "text": [
      "Hub Scores\n",
      "\n",
      "User\t \t\t\tScore\n",
      ". charles \t-\t 31978527469285107503398956990\n",
      ". teanna3 \t-\t 31224728902536158575166969992\n",
      ". JediKermit \t-\t 28720041621586065936064334422\n",
      ". KCFemme \t-\t 26588618022440755229063834103\n",
      ". melissasrn \t-\t 25447413756249117962808882672\n",
      ". missi31 \t-\t 25243341230410873004625185451\n",
      ". jeanniekerns \t-\t 25136558945674315113779792452\n",
      ". jag2112 \t-\t 25001351954518220971683352037\n",
      ". mrssmoopy \t-\t 24999440581661990374327214788\n",
      ". briandalsmom \t-\t 24519539977401360484295344585\n",
      "\n",
      "\n",
      "Authority Scores\n",
      "\n",
      "User\t \t\t\tScore\n",
      ". melissasrn \t-\t 1747346702470809014635839810\n",
      ". shantel575 \t-\t 1390705444188771313883977137\n",
      ". surferdude7 \t-\t 1374966583962396038673801650\n",
      ". sblaydes \t-\t 1114147290678058774647546495\n",
      ". tiffer0220 \t-\t 1099995654533266852507478649\n",
      ". opinionated3 \t-\t 1080550684984421298269933206\n",
      ". patch3boys \t-\t 928417487030403490098822102\n",
      ". merlot \t-\t 914777368411385714398320830\n",
      ". pogomom \t-\t 893869996236257935358818071\n",
      ". chrisceb \t-\t 848446702115310752962326066\n"
     ]
    }
   ],
   "source": [
    "# Here define your function for building the graph \n",
    "# by parsing the input file \n",
    "# Insert as many cells as you want\n",
    "  \n",
    "lines = [line.rstrip('\\n') for line in open('Epinions_trust.txt')]\n",
    "#lines = [line.rstrip('\\n') for line in open('test.txt')]\n",
    "nodes = []\n",
    "edges = 0\n",
    "in_relations = {}\n",
    "out_relations = {}\n",
    "\n",
    "for line in lines:\n",
    "    x = line.split()\n",
    "    nodes.append(x[0])\n",
    "    nodes.append(x[2])\n",
    "    if x[0] != x[2]:\n",
    "        edges+=1\n",
    "        #set up outgoing links list\n",
    "        if x[0] not in out_relations:\n",
    "            out_relations[x[0]] = [x[2]]\n",
    "        else:\n",
    "            out_relations[x[0]].append(x[2])\n",
    "        #set up incoming links list\n",
    "        if x[2] not in in_relations:\n",
    "            in_relations[x[2]] = [x[0]]\n",
    "        else:\n",
    "            in_relations[x[2]].append(x[0])       \n",
    "    \n",
    "\n",
    "nodes = set(nodes)\n",
    "\n",
    "hubScores = {}\n",
    "authScores = {}\n",
    "updated_hubScores = {}\n",
    "updated_authScores = {}\n",
    "\n",
    "#Initialize the hub scores and authority scores to 1\n",
    "for node in nodes:\n",
    "    authScores[node] = 1\n",
    "    hubScores[node] = 1\n",
    "    updated_hubScores[node] = 0\n",
    "    updated_authScores[node] = 0\n",
    "\n",
    "for i in range(0,10):\n",
    "    for node in nodes:\n",
    "        updated_authScores[node] = 0\n",
    "        if node in in_relations:\n",
    "            for a in in_relations[node]:\n",
    "                updated_authScores[node]+= hubScores[a]\n",
    "    for node in nodes:\n",
    "        updated_hubScores[node] = 0\n",
    "        if node in out_relations:\n",
    "            for b in out_relations[node]:\n",
    "                updated_hubScores[node]+= authScores[b]  \n",
    "    hubScores = updated_hubScores\n",
    "    authScores = updated_authScores\n",
    "\n",
    "\n",
    "sorted_hubScores = sorted(hubScores.items(), key=operator.itemgetter(1), reverse = True)\n",
    "data = sorted_hubScores[:10]\n",
    "\n",
    "print(\"Hub Scores\")\n",
    "print()\n",
    "print(\"User\\t\", \"\\t\\t\\tScore\")\n",
    "for key,value in data:\n",
    "    print(\".\",key,\"\\t-\\t\", value)\n",
    "    \n",
    "print()\n",
    "print()\n",
    "\n",
    "sorted_authScores = sorted(authScores.items(), key=operator.itemgetter(1), reverse = True)\n",
    "data = sorted_authScores[:10]\n",
    "\n",
    "print(\"Authority Scores\")\n",
    "print()\n",
    "print(\"User\\t\", \"\\t\\t\\tScore\")\n",
    "for key,value in data:\n",
    "    print(\".\",key,\"\\t-\\t\", value)"
   ]
  },
  {
   "cell_type": "markdown",
   "metadata": {},
   "source": [
    "Please show us the size of the graph, i.e., the number of nodes and edges\n"
   ]
  },
  {
   "cell_type": "code",
   "execution_count": 12,
   "metadata": {},
   "outputs": [
    {
     "name": "stdout",
     "output_type": "stream",
     "text": [
      "Number of Nodes in graph: 658\n",
      "Number of Edges in graph: 6378\n"
     ]
    }
   ],
   "source": [
    "# Call your function to print out the size of the graph\n",
    "# How you maintain the graph is totally up to you\n",
    "print('Number of Nodes in graph:', len(nodes))\n",
    "print('Number of Edges in graph:', edges)"
   ]
  },
  {
   "cell_type": "markdown",
   "metadata": {},
   "source": [
    "## HITS Implementation\n",
    "\n",
    "Your program will return the top 10 users with highest hub and authority scores. The **output** should be like:\n",
    "\n",
    "Hub Scores\n",
    "\n",
    "* user1 - score1\n",
    "* user2 - score2\n",
    "* ...\n",
    "* user10 - score10\n",
    "\n",
    "Authority Scores\n",
    "\n",
    "* user1 - score1\n",
    "* user2 - score2\n",
    "* ...\n",
    "* user10 - score10\n",
    "\n",
    "You should follow these **rules**:\n",
    "\n",
    "* Assume all nodes start out with equal scores.\n",
    "* It is up to you to decide when to terminate the HITS calculation.\n",
    "* There are HITS implementations out there on the web. However, remember, your code should be **your own**.\n",
    "\n",
    "\n",
    "**Hints**:\n",
    "* If you're using the matrix style approach, you should use [numpy.matrix](https://docs.scipy.org/doc/numpy/reference/generated/numpy.matrix.html).\n",
    "* Scipy is built on top of Numpy and has support for sparse matrices. You most likely will not need to use Scipy unless you'd like to try out their sparse matrices.\n",
    "* If you choose to use Numpy (and Scipy), please make sure your Anaconda environment include their latest versions.\n",
    "* Test your parsing and HITS calculations using a handful of trust relationships, before moving on to the entire file we provide.\n",
    "* We will evaluate the user ranks you provide as well as the quality of your code. So make sure that your code is clear and readable."
   ]
  },
  {
   "cell_type": "markdown",
   "metadata": {},
   "source": [
    "# Part 3: Search Engine Optimization (10 + 5 points)"
   ]
  },
  {
   "cell_type": "markdown",
   "metadata": {},
   "source": [
    "For this part, your goal is to put on your \"[search engine optimization](https://en.wikipedia.org/wiki/Search_engine_optimization)\" hat. Your job is to create a webpage that scores highest for the query: **sajfd hfafbjhd** --- two terms, lower case, no quote. As of today (Jan 24, 2019), there are no hits for this query on either Google or Bing. Based on our discussions of search engine ranking algorithms, you know that several factors may impact a page's rank. Your goal is to use this knowledge to promote your own page to the top of the list.\n",
    "\n",
    "What we're doing here is a form of [SEO contest](https://en.wikipedia.org/wiki/SEO_contest). While you have great latitude in how you approach this problem, you are not allowed to engage in any unethical or illegal behavior. Please read the discussion of \"white hat\" versus \"black hat\" SEO over at [Wikipedia](https://en.wikipedia.org/wiki/Search_engine_optimization).\n",
    "\n",
    "\n",
    "**Rules of the game:**\n",
    "\n",
    "* Somewhere in the page (possibly in the non-viewable source html) you must include your name or some other way for us to identify you.\n",
    "* Your target page may only be a TAMU student page, a page on your own webserver, a page on a standard blog platform (e.g., wordpress), or some other primarily user-controlled page\n",
    "* Your target page CAN NOT be a twitter account, a facebook page, a Yahoo Answers or similar page\n",
    "* No wikipedia vandalism\n",
    "* No yahoo/wiki answers questions\n",
    "* No comment spamming of blogs\n",
    "* If you have concerns/questions/clarifications, please post on Piazza and we will discuss\n",
    "\n",
    "For your homework turnin for this part, you should provide us the URL of your target page and a brief discussion (2-4 paragraphs) of the strategies you are using. We will issue the query and check the rankings at some undetermined time in the next couple of weeks. You might guess that major search engines take some time to discover and integrate new pages: if I were you, I'd get a target page up immediately.\n",
    "\n",
    "**Grading:**\n",
    "\n",
    "* 5 points for providing a valid URL\n",
    "* 5 points for a well-reasoned discussion of your strategy\n",
    "\n",
    "** Bonus: **\n",
    "* 1 point for your page appearing in the top-20 on Google or Bing\n",
    "* 1 more point for your page appearing in the top-10 on Google or Bing\n",
    "* 1 more point for your page appearing in the top-5 on Google or Bing\n",
    "* 2 more points for your page being ranked first by Google or Bing. And, a vigorous announcement in class, and a high-five for having the top result!"
   ]
  },
  {
   "cell_type": "markdown",
   "metadata": {},
   "source": [
    "What's the URL of your page?\n",
    "\n",
    "http://people.tamu.edu/~aninditamishra/"
   ]
  },
  {
   "cell_type": "markdown",
   "metadata": {},
   "source": [
    "What's your strategy? (2-4 paragraphs)\n",
    "\n",
    "I kept the following in mind while trying to improve the ranking of my webpage:\n",
    "\n",
    "* The website had to be mobile friendly: This meant my web page needed to load quickly, have easy to scan through content,adapt based on screen size and have clickable links spaced properly.\n",
    "\n",
    "\n",
    "* Keyword frequency: This helps search engines judge the relevancy of a webpage to a query. If my keyword frequency was too low, then I would have trouble ranking for that keyword. However, if this was too high, that sends a negative signal to the search engines. \"Keyword stuffing\" (a blackhat technique) is a technique where the keyword frequency is unnaturally high and distracting to users.\n",
    "\n",
    "\n",
    "* I added meta tags for description and keywords set as the given phrase because most search engines often display the meta description in search results which can highly influence user click-through rates.\n",
    "\n",
    "\n",
    "* Picked a short title for the page that contains the phrase: Both the title tag and the meta description together give a brief idea of what your content is about, but the title tag is displayed in the SERP and therfore, influences user-clicks.\n",
    "\n",
    "\n",
    "* Include an image or video on the page and annotate them with alt text set as the phrase.\n",
    "\n",
    "\n",
    "* Cross-linking: Link popularity is one of the main factors involved in how search engines determine the value, importance and relevance of sites on a given topic. This calculation is then reflected in the site's search ranking. Cross linking allows users to reference sites with content similar to that which they are already viewing, and may be of further interest to them. So, I set up another webpage using Google sites, created a github repository called \"sajfd hfafbjhd\", uploaded a youtube video with the same name and then create links between them while keeping the following in mind :\n",
    "\n",
    "    >1)Using keyword rich anchor text around the cross linking.\n",
    "    \n",
    "    >2)Avoid using cross linking on every page because it dilutes the quality of the link, and will appear questionable to the search engines.\n",
    "    \n",
    "    >3)Avoid creating a \"link ring\". A link ring is when several sites are cross linking to each other, with no other sites linked into the ring they create. Search engines will penalize this kind of cross linking immediately.\n",
    "    \n",
    "        \n",
    "* I also added google-site-verification meta tag to verify ownership of the webpage. \n",
    "\n",
    "\n",
    "* Share the page with people: Ranking of a webpage is influenced based on user engagement. Search engines monitor and remember user interactions. If a page consistently keeps people on them for longer than average, the algorithm will adjust the search results to favor that site.\n",
    "\n",
    "\n",
    "* Regularly update the webpage: \"Freshness\" of a webpage is also something that search engines consider while ranking. So, I made sure I added new content/modifyied existing content to keep my page fresh.\n"
   ]
  },
  {
   "cell_type": "markdown",
   "metadata": {},
   "source": [
    "## Collaboration declarations"
   ]
  },
  {
   "cell_type": "markdown",
   "metadata": {},
   "source": [
    "*If you collaborated with anyone (see Collaboration policy at the top of this homework), you can put your collaboration declarations here.*"
   ]
  },
  {
   "cell_type": "code",
   "execution_count": null,
   "metadata": {},
   "outputs": [],
   "source": []
  }
 ],
 "metadata": {
  "kernelspec": {
   "display_name": "Python 3",
   "language": "python",
   "name": "python3"
  },
  "language_info": {
   "codemirror_mode": {
    "name": "ipython",
    "version": 3
   },
   "file_extension": ".py",
   "mimetype": "text/x-python",
   "name": "python",
   "nbconvert_exporter": "python",
   "pygments_lexer": "ipython3",
   "version": "3.7.0"
  }
 },
 "nbformat": 4,
 "nbformat_minor": 2
}
